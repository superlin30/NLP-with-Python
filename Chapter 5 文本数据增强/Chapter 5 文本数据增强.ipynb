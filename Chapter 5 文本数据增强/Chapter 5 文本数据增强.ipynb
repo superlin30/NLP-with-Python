{
 "cells": [
  {
   "cell_type": "markdown",
   "metadata": {
    "id": "vyQ0fZs-GWNK"
   },
   "source": [
    "<table border=\"0\" width=\"100%\"><p align=\"left\"><img src=\"logo.png\"  align=\"left\" width=30%></table>"
   ]
  },
  {
   "cell_type": "markdown",
   "metadata": {
    "id": "avFlZmhkGWNP"
   },
   "source": [
    "# <center>Chapter 5 文本数据增强</center>"
   ]
  },
  {
   "cell_type": "markdown",
   "metadata": {},
   "source": [
    "**数据增强可以简单理解为由少量数据生成大量数据的过程。一般比较成功的神经网络拥有大量参数，使这些参数正确工作需要用大量的数据进行训练，但实际情况中数据并没有那么多，因此需要做数据增强。相较于图像、语音方面的数据增强而言，文本的数据增强更具有挑战性，因为文本中微小的改动就可能带来语义的变化，从而破坏了原文本，导致数据质量降低。本章将介绍通用几种文本数据增强方法，除了这些通用的增强方法之外，大多数时候需要针对具体的NLP任务设计对应的文本数据增强方法。**\n",
    "###  本章节基本组织如下:\n",
    "* 文本截断\n",
    "* 文本数据扩充\n",
    "* 噪声技术(EDA)"
   ]
  },
  {
   "cell_type": "markdown",
   "metadata": {},
   "source": [
    "**给出example data并进行基本的数据分析**"
   ]
  },
  {
   "cell_type": "code",
   "execution_count": 1,
   "metadata": {
    "executionInfo": {
     "elapsed": 936,
     "status": "ok",
     "timestamp": 1663760020285,
     "user": {
      "displayName": "张洪洋",
      "userId": "14927477092713403753"
     },
     "user_tz": -480
    },
    "id": "1Jx2mEOHGWNQ"
   },
   "outputs": [],
   "source": [
    "import pandas as pd"
   ]
  },
  {
   "cell_type": "code",
   "execution_count": 2,
   "metadata": {
    "colab": {
     "base_uri": "https://localhost:8080/",
     "height": 224
    },
    "executionInfo": {
     "elapsed": 970,
     "status": "ok",
     "timestamp": 1663771411539,
     "user": {
      "displayName": "张洪洋",
      "userId": "14927477092713403753"
     },
     "user_tz": -480
    },
    "id": "dwQUSnkaGWNR",
    "outputId": "50ec3eea-40c8-4f33-b85b-fa6de732a9cb"
   },
   "outputs": [
    {
     "name": "stdout",
     "output_type": "stream",
     "text": [
      "data.shape: (600, 2)\n"
     ]
    },
    {
     "data": {
      "text/html": [
       "<div>\n",
       "<style scoped>\n",
       "    .dataframe tbody tr th:only-of-type {\n",
       "        vertical-align: middle;\n",
       "    }\n",
       "\n",
       "    .dataframe tbody tr th {\n",
       "        vertical-align: top;\n",
       "    }\n",
       "\n",
       "    .dataframe thead th {\n",
       "        text-align: right;\n",
       "    }\n",
       "</style>\n",
       "<table border=\"1\" class=\"dataframe\">\n",
       "  <thead>\n",
       "    <tr style=\"text-align: right;\">\n",
       "      <th></th>\n",
       "      <th>id</th>\n",
       "      <th>text</th>\n",
       "    </tr>\n",
       "  </thead>\n",
       "  <tbody>\n",
       "    <tr>\n",
       "      <th>0</th>\n",
       "      <td>2401</td>\n",
       "      <td>活动二：消费满额加送两次代驾服务,2022年1月1日至12月31日，首次成功办理家庭卡银联版...</td>\n",
       "    </tr>\n",
       "    <tr>\n",
       "      <th>1</th>\n",
       "      <td>2402</td>\n",
       "      <td>消费越多，里程越多3.高额航空保险对于经常处于旅行奔波的人士来说，出行安全及有关保障是其考虑...</td>\n",
       "    </tr>\n",
       "    <tr>\n",
       "      <th>2</th>\n",
       "      <td>2403</td>\n",
       "      <td>温馨提示：新办卡客户消费达标后可同时参与上述两个赠礼活动,刷卡满200元享118元返现:20...</td>\n",
       "    </tr>\n",
       "    <tr>\n",
       "      <th>3</th>\n",
       "      <td>2404</td>\n",
       "      <td>该卡为银联单币种信用卡，具有新一代长城信用卡所有功能中银海西文化信用卡是长城品牌下面向福建本...</td>\n",
       "    </tr>\n",
       "    <tr>\n",
       "      <th>4</th>\n",
       "      <td>2405</td>\n",
       "      <td>（2）航班及行李延误险,使用家庭卡银联版支付本人100%国内外机票款（含折扣机票款）或100...</td>\n",
       "    </tr>\n",
       "  </tbody>\n",
       "</table>\n",
       "</div>"
      ],
      "text/plain": [
       "     id                                               text\n",
       "0  2401  活动二：消费满额加送两次代驾服务,2022年1月1日至12月31日，首次成功办理家庭卡银联版...\n",
       "1  2402  消费越多，里程越多3.高额航空保险对于经常处于旅行奔波的人士来说，出行安全及有关保障是其考虑...\n",
       "2  2403  温馨提示：新办卡客户消费达标后可同时参与上述两个赠礼活动,刷卡满200元享118元返现:20...\n",
       "3  2404  该卡为银联单币种信用卡，具有新一代长城信用卡所有功能中银海西文化信用卡是长城品牌下面向福建本...\n",
       "4  2405  （2）航班及行李延误险,使用家庭卡银联版支付本人100%国内外机票款（含折扣机票款）或100..."
      ]
     },
     "metadata": {},
     "output_type": "display_data"
    }
   ],
   "source": [
    "data = pd.read_csv('example_text_data.csv')\n",
    "print(f\"data.shape: {data.shape}\")\n",
    "display(data.head())"
   ]
  },
  {
   "cell_type": "markdown",
   "metadata": {},
   "source": [
    "**对于纯文本数据而言，一般我们关注的是需不需要做数据清洗和文本长度两个方面。具体的文本数据清洗方法可参照第一章节，我们先对文本长度进行分析**"
   ]
  },
  {
   "cell_type": "code",
   "execution_count": 3,
   "metadata": {},
   "outputs": [
    {
     "data": {
      "text/html": [
       "<div>\n",
       "<style scoped>\n",
       "    .dataframe tbody tr th:only-of-type {\n",
       "        vertical-align: middle;\n",
       "    }\n",
       "\n",
       "    .dataframe tbody tr th {\n",
       "        vertical-align: top;\n",
       "    }\n",
       "\n",
       "    .dataframe thead th {\n",
       "        text-align: right;\n",
       "    }\n",
       "</style>\n",
       "<table border=\"1\" class=\"dataframe\">\n",
       "  <thead>\n",
       "    <tr style=\"text-align: right;\">\n",
       "      <th></th>\n",
       "      <th>id</th>\n",
       "      <th>text</th>\n",
       "      <th>text_len</th>\n",
       "    </tr>\n",
       "  </thead>\n",
       "  <tbody>\n",
       "    <tr>\n",
       "      <th>0</th>\n",
       "      <td>2401</td>\n",
       "      <td>活动二：消费满额加送两次代驾服务,2022年1月1日至12月31日，首次成功办理家庭卡银联版...</td>\n",
       "      <td>100</td>\n",
       "    </tr>\n",
       "    <tr>\n",
       "      <th>1</th>\n",
       "      <td>2402</td>\n",
       "      <td>消费越多，里程越多3.高额航空保险对于经常处于旅行奔波的人士来说，出行安全及有关保障是其考虑...</td>\n",
       "      <td>141</td>\n",
       "    </tr>\n",
       "    <tr>\n",
       "      <th>2</th>\n",
       "      <td>2403</td>\n",
       "      <td>温馨提示：新办卡客户消费达标后可同时参与上述两个赠礼活动,刷卡满200元享118元返现:20...</td>\n",
       "      <td>175</td>\n",
       "    </tr>\n",
       "    <tr>\n",
       "      <th>3</th>\n",
       "      <td>2404</td>\n",
       "      <td>该卡为银联单币种信用卡，具有新一代长城信用卡所有功能中银海西文化信用卡是长城品牌下面向福建本...</td>\n",
       "      <td>111</td>\n",
       "    </tr>\n",
       "    <tr>\n",
       "      <th>4</th>\n",
       "      <td>2405</td>\n",
       "      <td>（2）航班及行李延误险,使用家庭卡银联版支付本人100%国内外机票款（含折扣机票款）或100...</td>\n",
       "      <td>145</td>\n",
       "    </tr>\n",
       "  </tbody>\n",
       "</table>\n",
       "</div>"
      ],
      "text/plain": [
       "     id                                               text  text_len\n",
       "0  2401  活动二：消费满额加送两次代驾服务,2022年1月1日至12月31日，首次成功办理家庭卡银联版...       100\n",
       "1  2402  消费越多，里程越多3.高额航空保险对于经常处于旅行奔波的人士来说，出行安全及有关保障是其考虑...       141\n",
       "2  2403  温馨提示：新办卡客户消费达标后可同时参与上述两个赠礼活动,刷卡满200元享118元返现:20...       175\n",
       "3  2404  该卡为银联单币种信用卡，具有新一代长城信用卡所有功能中银海西文化信用卡是长城品牌下面向福建本...       111\n",
       "4  2405  （2）航班及行李延误险,使用家庭卡银联版支付本人100%国内外机票款（含折扣机票款）或100...       145"
      ]
     },
     "metadata": {},
     "output_type": "display_data"
    }
   ],
   "source": [
    "data['text_len'] = data['text'].map(len)   # 使用map方法对data的text列的所有值计算长度，并生成一个新列text_len\n",
    "display(data.head())"
   ]
  },
  {
   "cell_type": "code",
   "execution_count": 4,
   "metadata": {},
   "outputs": [
    {
     "data": {
      "text/plain": [
       "<AxesSubplot:>"
      ]
     },
     "execution_count": 4,
     "metadata": {},
     "output_type": "execute_result"
    },
    {
     "data": {
      "image/png": "[encoded data removed]",
      "text/plain": [
       "<Figure size 432x288 with 1 Axes>"
      ]
     },
     "metadata": {
      "needs_background": "light"
     },
     "output_type": "display_data"
    }
   ],
   "source": [
    "data['text_len'].plot()   # 观察一下文本长度的数据分布"
   ]
  },
  {
   "cell_type": "code",
   "execution_count": 5,
   "metadata": {},
   "outputs": [
    {
     "data": {
      "text/plain": [
       "count     600.0000\n",
       "mean      223.5000\n",
       "std       281.2513\n",
       "min        25.0000\n",
       "25%       121.0000\n",
       "50%       163.0000\n",
       "75%       268.2500\n",
       "max      5949.0000\n",
       "Name: text_len, dtype: float64"
      ]
     },
     "execution_count": 5,
     "metadata": {},
     "output_type": "execute_result"
    }
   ],
   "source": [
    "data['text_len'].describe()  # describe方法数据较为全面的分析"
   ]
  },
  {
   "cell_type": "markdown",
   "metadata": {},
   "source": [
    "**可以看到大部分文本长度在300以内，存在少量超长文本。一般而言，为了避免维度过大以及提升计算效率，大多数NLP模型将文本的输入长度限制在了512或1024之内，这就意味着对于少量的超长文本，需要抛弃或者进行文本截断操作**"
   ]
  },
  {
   "cell_type": "markdown",
   "metadata": {
    "id": "WExhVIZpGWNS"
   },
   "source": [
    "## 1.文本数据截断"
   ]
  },
  {
   "cell_type": "markdown",
   "metadata": {},
   "source": [
    "**在处理长文本的过程中，通常需要按照某个阈值对文本进行截断，但是又不能直接去在当前阈值截断，可能会破坏句子结构，比较理想的方案是在某一个阈值向前搜索并找到句子的末位（例如句号）处进行截断，剩下的若还超过阈值，则重复截断。**"
   ]
  },
  {
   "cell_type": "markdown",
   "metadata": {},
   "source": [
    "<center><img src=\"文本截断.jpg\" width=80%><center>"
   ]
  },
  {
   "cell_type": "code",
   "execution_count": 6,
   "metadata": {},
   "outputs": [],
   "source": [
    "truncated_data = pd.DataFrame(columns=['id','text'])  #新建dataframe\n",
    "max_len = 300  #假设句子最长为300\n",
    "\n",
    "for j in range(len(data)):  \n",
    "    text = data['text'][j]  #text\n",
    "    left_index = 0          #设定句子的左索引，默认为0\n",
    "    temp_text_list = []     #list\n",
    "    count = 0\n",
    "    df = {}    #存放新增的内容\n",
    "   \n",
    "    while len(text[left_index:])>= max_len :\n",
    "        count +=1\n",
    "        for z in range(100):  # 只需向前搜索一定步数，加快运算\n",
    "            if text[left_index+max_len-z] in ['！','。','>','；','•','）'] :  #出现list里的这些符号认为为句子末尾，可自定义\n",
    "                temp_text_list.append(text[left_index: left_index+300-z+1])   #截断的第一个句子\n",
    "                \n",
    "                left_index += max_len-z+1  # 将左索引右移到截断处\n",
    "\n",
    "                break\n",
    "        if count>=40:  #可能会出现长文本里面没有结尾的情况，限制搜索范围为max_len*40个字节\n",
    "            break\n",
    "    \n",
    "    temp_text_list.append(text[left_index:])  #截断的句子存放处\n",
    "    \n",
    "    for i in temp_text_list:  #遍历每个被截断的句子\n",
    "        \n",
    "        df[\"id\"] = data['id'][j]  #装入df\n",
    "        df[\"text\"] = i\n",
    "        \n",
    "        truncated_data = truncated_data.append(df,ignore_index=True)  # 向dataframe内添加行"
   ]
  },
  {
   "cell_type": "code",
   "execution_count": 34,
   "metadata": {},
   "outputs": [
    {
     "data": {
      "text/plain": [
       "count     708.000000\n",
       "mean      189.406780\n",
       "std       183.186578\n",
       "min        10.000000\n",
       "25%       120.000000\n",
       "50%       161.000000\n",
       "75%       254.000000\n",
       "max      4266.000000\n",
       "Name: text_len, dtype: float64"
      ]
     },
     "execution_count": 34,
     "metadata": {},
     "output_type": "execute_result"
    }
   ],
   "source": [
    "truncated_data['text_len'] = truncated_data['text'].map(len)\n",
    "truncated_data['text_len'].describe()   # 文本长度的数据分布"
   ]
  },
  {
   "cell_type": "markdown",
   "metadata": {
    "id": "QeSUTPYHGWNT"
   },
   "source": [
    "## 2.数据扩充"
   ]
  },
  {
   "cell_type": "markdown",
   "metadata": {},
   "source": [
    "**深度学习模型需要足够的数据支撑才能进行更好地训练，但实际生活中，作为开发者往往无法获取大量的数据，而专业的数据采集和标注公司提供的数据服务也并不便宜，因此，解决此问题有一个较为不错的初级方案，那就是进行数据扩充。数据扩充（data augmentation）其本质即：缺少海量数据时，为了保证模型的有效训练，一分钱掰成两半花。\n",
    "这里介绍两种数据扩充的方法：**"
   ]
  },
  {
   "cell_type": "markdown",
   "metadata": {},
   "source": [
    "### 2.1直接复制（python copy()等方法的使用和解释）"
   ]
  },
  {
   "cell_type": "markdown",
   "metadata": {},
   "source": [
    "**Python中,直接用等于符号或者运用copy()函数可以返回一个复制，然而单纯地运用等于符号和copy()函数,只会返回一个浅复制(浅拷贝)，对于浅复制而言，其中一个发生变化，另一个被复制的对象或原对象也会发生变化。**\n",
    "\n",
    "**而对于深复制(深拷贝)而言，一旦复制出来了，就是独立的，其中一个发生变化，另一个不会随之发生变化**"
   ]
  },
  {
   "cell_type": "code",
   "execution_count": 21,
   "metadata": {},
   "outputs": [
    {
     "name": "stdout",
     "output_type": "stream",
     "text": [
      "原df:\n",
      "   a  b  c\n",
      "0  1  2  3\n",
      "浅复制df:\n",
      "   a  b  c\n",
      "0  1  2  3\n",
      "浅复制df:\n",
      "   a  b  c\n",
      "0  1  2  3\n",
      "深复制df:\n",
      "   a  b  c\n",
      "0  1  2  3\n"
     ]
    }
   ],
   "source": [
    "df = pd.DataFrame([[1,2,3]],columns=[\"a\",\"b\",\"c\"])  # 生成一个df\n",
    "print(f\"原df:\\n{df}\")\n",
    "\n",
    "df1 = df   #浅\n",
    "print(f\"浅复制df:\\n{df1}\")\n",
    "\n",
    "df2 = df.copy(deep=False)  #浅\n",
    "print(f\"浅复制df:\\n{df2}\")\n",
    "\n",
    "df3 = df.copy(deep=True)  #深\n",
    "print(f\"深复制df:\\n{df3}\")"
   ]
  },
  {
   "cell_type": "code",
   "execution_count": 22,
   "metadata": {},
   "outputs": [
    {
     "name": "stdout",
     "output_type": "stream",
     "text": [
      "原df:\n",
      "     a  b  c\n",
      "0  999  2  3\n",
      "浅复制df:\n",
      "     a  b  c\n",
      "0  999  2  3\n",
      "浅复制df:\n",
      "     a  b  c\n",
      "0  999  2  3\n",
      "深复制df:\n",
      "   a  b  c\n",
      "0  1  2  3\n"
     ]
    }
   ],
   "source": [
    "df[\"a\"][0] = 999  # 改变原df的值\n",
    "print(f\"原df:\\n{df}\")   \n",
    "print(f\"浅复制df:\\n{df1}\")    #随着改变\n",
    "print(f\"浅复制df:\\n{df2}\")    #随着改变\n",
    "print(f\"深复制df:\\n{df3}\")    #不改变"
   ]
  },
  {
   "cell_type": "markdown",
   "metadata": {},
   "source": [
    "**因此，增加数据量最简单和直接的方法就是直接复制拷贝一份新的数据**"
   ]
  },
  {
   "cell_type": "code",
   "execution_count": 23,
   "metadata": {},
   "outputs": [
    {
     "name": "stdout",
     "output_type": "stream",
     "text": [
      "原数据data.shape: (600, 2)\n"
     ]
    },
    {
     "data": {
      "text/html": [
       "<div>\n",
       "<style scoped>\n",
       "    .dataframe tbody tr th:only-of-type {\n",
       "        vertical-align: middle;\n",
       "    }\n",
       "\n",
       "    .dataframe tbody tr th {\n",
       "        vertical-align: top;\n",
       "    }\n",
       "\n",
       "    .dataframe thead th {\n",
       "        text-align: right;\n",
       "    }\n",
       "</style>\n",
       "<table border=\"1\" class=\"dataframe\">\n",
       "  <thead>\n",
       "    <tr style=\"text-align: right;\">\n",
       "      <th></th>\n",
       "      <th>id</th>\n",
       "      <th>text</th>\n",
       "    </tr>\n",
       "  </thead>\n",
       "  <tbody>\n",
       "    <tr>\n",
       "      <th>0</th>\n",
       "      <td>2401</td>\n",
       "      <td>活动二：消费满额加送两次代驾服务,2022年1月1日至12月31日，首次成功办理家庭卡银联版...</td>\n",
       "    </tr>\n",
       "    <tr>\n",
       "      <th>1</th>\n",
       "      <td>2402</td>\n",
       "      <td>消费越多，里程越多3.高额航空保险对于经常处于旅行奔波的人士来说，出行安全及有关保障是其考虑...</td>\n",
       "    </tr>\n",
       "    <tr>\n",
       "      <th>2</th>\n",
       "      <td>2403</td>\n",
       "      <td>温馨提示：新办卡客户消费达标后可同时参与上述两个赠礼活动,刷卡满200元享118元返现:20...</td>\n",
       "    </tr>\n",
       "    <tr>\n",
       "      <th>3</th>\n",
       "      <td>2404</td>\n",
       "      <td>该卡为银联单币种信用卡，具有新一代长城信用卡所有功能中银海西文化信用卡是长城品牌下面向福建本...</td>\n",
       "    </tr>\n",
       "    <tr>\n",
       "      <th>4</th>\n",
       "      <td>2405</td>\n",
       "      <td>（2）航班及行李延误险,使用家庭卡银联版支付本人100%国内外机票款（含折扣机票款）或100...</td>\n",
       "    </tr>\n",
       "  </tbody>\n",
       "</table>\n",
       "</div>"
      ],
      "text/plain": [
       "     id                                               text\n",
       "0  2401  活动二：消费满额加送两次代驾服务,2022年1月1日至12月31日，首次成功办理家庭卡银联版...\n",
       "1  2402  消费越多，里程越多3.高额航空保险对于经常处于旅行奔波的人士来说，出行安全及有关保障是其考虑...\n",
       "2  2403  温馨提示：新办卡客户消费达标后可同时参与上述两个赠礼活动,刷卡满200元享118元返现:20...\n",
       "3  2404  该卡为银联单币种信用卡，具有新一代长城信用卡所有功能中银海西文化信用卡是长城品牌下面向福建本...\n",
       "4  2405  （2）航班及行李延误险,使用家庭卡银联版支付本人100%国内外机票款（含折扣机票款）或100..."
      ]
     },
     "metadata": {},
     "output_type": "display_data"
    }
   ],
   "source": [
    "import pandas as pd\n",
    "data = pd.read_csv('example_text_data.csv')\n",
    "print(f\"原数据data.shape: {data.shape}\")\n",
    "display(data.head())   "
   ]
  },
  {
   "cell_type": "code",
   "execution_count": 24,
   "metadata": {},
   "outputs": [
    {
     "name": "stdout",
     "output_type": "stream",
     "text": [
      "扩充后的数据data.shape: (1200, 2)\n"
     ]
    },
    {
     "data": {
      "text/html": [
       "<div>\n",
       "<style scoped>\n",
       "    .dataframe tbody tr th:only-of-type {\n",
       "        vertical-align: middle;\n",
       "    }\n",
       "\n",
       "    .dataframe tbody tr th {\n",
       "        vertical-align: top;\n",
       "    }\n",
       "\n",
       "    .dataframe thead th {\n",
       "        text-align: right;\n",
       "    }\n",
       "</style>\n",
       "<table border=\"1\" class=\"dataframe\">\n",
       "  <thead>\n",
       "    <tr style=\"text-align: right;\">\n",
       "      <th></th>\n",
       "      <th>id</th>\n",
       "      <th>text</th>\n",
       "    </tr>\n",
       "  </thead>\n",
       "  <tbody>\n",
       "    <tr>\n",
       "      <th>0</th>\n",
       "      <td>2401</td>\n",
       "      <td>活动二：消费满额加送两次代驾服务,2022年1月1日至12月31日，首次成功办理家庭卡银联版...</td>\n",
       "    </tr>\n",
       "    <tr>\n",
       "      <th>1</th>\n",
       "      <td>2402</td>\n",
       "      <td>消费越多，里程越多3.高额航空保险对于经常处于旅行奔波的人士来说，出行安全及有关保障是其考虑...</td>\n",
       "    </tr>\n",
       "    <tr>\n",
       "      <th>2</th>\n",
       "      <td>2403</td>\n",
       "      <td>温馨提示：新办卡客户消费达标后可同时参与上述两个赠礼活动,刷卡满200元享118元返现:20...</td>\n",
       "    </tr>\n",
       "    <tr>\n",
       "      <th>3</th>\n",
       "      <td>2404</td>\n",
       "      <td>该卡为银联单币种信用卡，具有新一代长城信用卡所有功能中银海西文化信用卡是长城品牌下面向福建本...</td>\n",
       "    </tr>\n",
       "    <tr>\n",
       "      <th>4</th>\n",
       "      <td>2405</td>\n",
       "      <td>（2）航班及行李延误险,使用家庭卡银联版支付本人100%国内外机票款（含折扣机票款）或100...</td>\n",
       "    </tr>\n",
       "  </tbody>\n",
       "</table>\n",
       "</div>"
      ],
      "text/plain": [
       "     id                                               text\n",
       "0  2401  活动二：消费满额加送两次代驾服务,2022年1月1日至12月31日，首次成功办理家庭卡银联版...\n",
       "1  2402  消费越多，里程越多3.高额航空保险对于经常处于旅行奔波的人士来说，出行安全及有关保障是其考虑...\n",
       "2  2403  温馨提示：新办卡客户消费达标后可同时参与上述两个赠礼活动,刷卡满200元享118元返现:20...\n",
       "3  2404  该卡为银联单币种信用卡，具有新一代长城信用卡所有功能中银海西文化信用卡是长城品牌下面向福建本...\n",
       "4  2405  （2）航班及行李延误险,使用家庭卡银联版支付本人100%国内外机票款（含折扣机票款）或100..."
      ]
     },
     "metadata": {},
     "output_type": "display_data"
    }
   ],
   "source": [
    "new_data  = data.copy(deep=True)  # 深复制\n",
    "data = pd.concat([new_data,data], ignore_index = True)  #pd.concat将两个dataframe进行拼合\n",
    "print(f\"扩充后的数据data.shape: {data.shape}\")\n",
    "display(data.head())"
   ]
  },
  {
   "cell_type": "markdown",
   "metadata": {},
   "source": [
    "### 2.2反译"
   ]
  },
  {
   "cell_type": "markdown",
   "metadata": {
    "id": "srQsfMI4dMnl"
   },
   "source": [
    "**对于文本数据而言，将文本翻译成其他语言再翻译成回来后，利用翻译器的特点，使得翻译回来的文本与原来的文本语义高度相似，又引入了其他词汇，增加了模型可学习的内容。**"
   ]
  },
  {
   "cell_type": "markdown",
   "metadata": {},
   "source": [
    "**[googletrans](https://github.com/ssut/py-googletrans//)是一个免费的调用谷歌翻译库的python api,可以通过以下代码安装：**"
   ]
  },
  {
   "cell_type": "code",
   "execution_count": null,
   "metadata": {},
   "outputs": [],
   "source": [
    "!pip install googletrans==4.0.0rc1"
   ]
  },
  {
   "cell_type": "markdown",
   "metadata": {},
   "source": [
    "**利用[gooletrans](https://github.com/ssut/py-googletrans//)来进行中文的反译操作：**"
   ]
  },
  {
   "cell_type": "code",
   "execution_count": 26,
   "metadata": {},
   "outputs": [
    {
     "name": "stdout",
     "output_type": "stream",
     "text": [
      "原句子: \n",
      "下面的代码，我只涉及到了“中文”和“英语”两种语言的循环翻译，没有涉及到其他的语言。\n",
      "\n",
      "汉译英: \n",
      "In the following code, I only involve cyclic translations of two languages: \"Chinese\" and \"English\", which does not involve other languages.\n",
      "\n",
      "英译汉:\n",
      "在以下代码中，我仅涉及两种语言的循环翻译：“中文”和“英语”，不涉及其他语言。\n",
      "\n"
     ]
    }
   ],
   "source": [
    "import csv\n",
    "from googletrans import Translator\n",
    "\n",
    "translator = Translator(service_urls=[ \n",
    "      'translate.google.cn' \n",
    "    ]) #接入谷歌的翻译服务，设定service_urls为translate.google.cn即可翻译中文\n",
    "\n",
    "translator.raise_Exception = True  # 避免ip被限制\n",
    "\n",
    "chinese_text = '下面的代码，我只涉及到了“中文”和“英语”两种语言的循环翻译，没有涉及到其他的语言。'\n",
    "print(f\"原句子: \\n{chinese_text}\\n\")\n",
    "\n",
    "english_text = translator.translate(chinese_text).text  # 调用translate方法\n",
    "print(f\"汉译英: \\n{english_text}\\n\")\n",
    "\n",
    "re_chinese_text = translator.translate(english_text,dest='zh-CN').text  # 设定为英译汉\n",
    "print(f\"英译汉:\\n{re_chinese_text}\\n\")"
   ]
  },
  {
   "cell_type": "markdown",
   "metadata": {},
   "source": [
    "**将example_data进行批量的反译：**"
   ]
  },
  {
   "cell_type": "code",
   "execution_count": 27,
   "metadata": {},
   "outputs": [
    {
     "data": {
      "text/html": [
       "<div>\n",
       "<style scoped>\n",
       "    .dataframe tbody tr th:only-of-type {\n",
       "        vertical-align: middle;\n",
       "    }\n",
       "\n",
       "    .dataframe tbody tr th {\n",
       "        vertical-align: top;\n",
       "    }\n",
       "\n",
       "    .dataframe thead th {\n",
       "        text-align: right;\n",
       "    }\n",
       "</style>\n",
       "<table border=\"1\" class=\"dataframe\">\n",
       "  <thead>\n",
       "    <tr style=\"text-align: right;\">\n",
       "      <th></th>\n",
       "      <th>id</th>\n",
       "      <th>text</th>\n",
       "      <th>trans_text</th>\n",
       "    </tr>\n",
       "  </thead>\n",
       "  <tbody>\n",
       "    <tr>\n",
       "      <th>0</th>\n",
       "      <td>2401</td>\n",
       "      <td>活动二：消费满额加送两次代驾服务,2022年1月1日至12月31日，首次成功办理家庭卡银联版...</td>\n",
       "      <td>活动2：全面消费并发送两项驾驶服务。从2022年1月1日到12月31日，首次成功地应用了家用...</td>\n",
       "    </tr>\n",
       "    <tr>\n",
       "      <th>1</th>\n",
       "      <td>2402</td>\n",
       "      <td>消费越多，里程越多3.高额航空保险对于经常处于旅行奔波的人士来说，出行安全及有关保障是其考虑...</td>\n",
       "      <td>消费越多，里程越多。3.对于那些经常旅行，旅行安全和相关保证的人来说，高空保险是其考虑的主要...</td>\n",
       "    </tr>\n",
       "    <tr>\n",
       "      <th>2</th>\n",
       "      <td>2403</td>\n",
       "      <td>温馨提示：新办卡客户消费达标后可同时参与上述两个赠礼活动,刷卡满200元享118元返现:20...</td>\n",
       "      <td>提醒：新的卡客户消费达到标准后，您可以同时参与上述两个礼物。通过CCB移动银行，“中国Chi...</td>\n",
       "    </tr>\n",
       "    <tr>\n",
       "      <th>3</th>\n",
       "      <td>2404</td>\n",
       "      <td>该卡为银联单币种信用卡，具有新一代长城信用卡所有功能中银海西文化信用卡是长城品牌下面向福建本...</td>\n",
       "      <td>该卡是UnionPay的一张货币信用卡。它具有新一代大墙信用卡，所有功能在大墙信用卡的所有功...</td>\n",
       "    </tr>\n",
       "    <tr>\n",
       "      <th>4</th>\n",
       "      <td>2405</td>\n",
       "      <td>（2）航班及行李延误险,使用家庭卡银联版支付本人100%国内外机票款（含折扣机票款）或100...</td>\n",
       "      <td>（2）航班和行李延迟保险，使用家用卡Unionpay版本支付100％的国内和外国票证资金（包...</td>\n",
       "    </tr>\n",
       "  </tbody>\n",
       "</table>\n",
       "</div>"
      ],
      "text/plain": [
       "     id                                               text  \\\n",
       "0  2401  活动二：消费满额加送两次代驾服务,2022年1月1日至12月31日，首次成功办理家庭卡银联版...   \n",
       "1  2402  消费越多，里程越多3.高额航空保险对于经常处于旅行奔波的人士来说，出行安全及有关保障是其考虑...   \n",
       "2  2403  温馨提示：新办卡客户消费达标后可同时参与上述两个赠礼活动,刷卡满200元享118元返现:20...   \n",
       "3  2404  该卡为银联单币种信用卡，具有新一代长城信用卡所有功能中银海西文化信用卡是长城品牌下面向福建本...   \n",
       "4  2405  （2）航班及行李延误险,使用家庭卡银联版支付本人100%国内外机票款（含折扣机票款）或100...   \n",
       "\n",
       "                                          trans_text  \n",
       "0  活动2：全面消费并发送两项驾驶服务。从2022年1月1日到12月31日，首次成功地应用了家用...  \n",
       "1  消费越多，里程越多。3.对于那些经常旅行，旅行安全和相关保证的人来说，高空保险是其考虑的主要...  \n",
       "2  提醒：新的卡客户消费达到标准后，您可以同时参与上述两个礼物。通过CCB移动银行，“中国Chi...  \n",
       "3  该卡是UnionPay的一张货币信用卡。它具有新一代大墙信用卡，所有功能在大墙信用卡的所有功...  \n",
       "4  （2）航班和行李延迟保险，使用家用卡Unionpay版本支付100％的国内和外国票证资金（包...  "
      ]
     },
     "metadata": {},
     "output_type": "display_data"
    }
   ],
   "source": [
    "import pandas as pd\n",
    "data = pd.read_csv('example_text_data.csv')  # 读入\n",
    "\n",
    "trans_data = data.copy(deep = True)  #深拷贝\n",
    "\n",
    "translator.raise_Exception = True   # 避免ip被限制\n",
    "\n",
    "trans_data['trans_text'] = trans_data['text'][:5].map(lambda x: translator.translate(translator.translate(x).text,dest='zh-CN').text)\n",
    "# map和lambda函数是dataframe中非常重要的函数，可以很方便的灵活的对dataframe进行批量操作\n",
    "display(trans_data.head())"
   ]
  },
  {
   "cell_type": "markdown",
   "metadata": {},
   "source": [
    "**注：由于googletrans本质上是一种网络爬虫访问方法，所以在进行高频的操作时有会被网络限制(404),可以尝试更换ip地址或者利用for循环加上time.sleep()函数单笔地进行操作。如果要用于商业化或者实操于大规模数据集，建议购买谷歌官方的翻译API服务。**"
   ]
  },
  {
   "cell_type": "markdown",
   "metadata": {
    "id": "yNG7I6XxGWNU"
   },
   "source": [
    "## 3.噪声技术"
   ]
  },
  {
   "cell_type": "markdown",
   "metadata": {
    "id": "Wb_i_Fh_dcgY"
   },
   "source": [
    "**噪声技术旨在通过向文本中注入噪声数据，来生成新的文本，最后使得训练的模型对扰动具有鲁棒性。EDA（Easy Data Augmentation）是一种通用且易于实现的nlp噪声技术，[EDA](https://github.com/jasonwei20/eda_nlp//) 由四个简单但功能强大的操作组成：同义词替换、随机插入、随机交换和随机删除。在论文 [《EDA: Easy Data Augmentation Techniques for Boosting Performance on Text Classification Tasks》](https://arxiv.org/abs/1901.11196//)中，作者用五个文本分类任务中证明了EDA显著提高了卷积和递归神经网络的性能，仅使用 50% 的可用训练集进行 EDA 训练便达到了与使用所有可用数据进行正常训练相同的准确度。**\n"
   ]
  },
  {
   "cell_type": "markdown",
   "metadata": {
    "id": "P331uT8od-Hl"
   },
   "source": [
    "### 3.1   同义词替换\n",
    "\n",
    "**同义词替换(Synonym Replacement, SR)是指从句子中随机选取n个不属于非停止词，并随机选择其同义词替换它们**\n",
    "\n",
    "<center><img src=\"https://img-blog.csdnimg.cn/20200923194604909.png#pic_center\" width=60%><center>\n",
    "\n",
    "\n",
    "\n",
    "\n"
   ]
  },
  {
   "cell_type": "code",
   "execution_count": null,
   "metadata": {
    "id": "j5IlggPAmmyT"
   },
   "outputs": [],
   "source": [
    "!pip install synonyms #若未安装synonoyms,运行此代码，若synonyms安装错误，请检查是否有安装jieba等前置库"
   ]
  },
  {
   "cell_type": "code",
   "execution_count": 1,
   "metadata": {
    "id": "05c_Gvaol3Kw"
   },
   "outputs": [
    {
     "name": "stderr",
     "output_type": "stream",
     "text": [
      "Building prefix dict from D:\\anacondaset\\lib\\site-packages\\synonyms\\data\\vocab.txt ...\n",
      "Loading model from cache C:\\Users\\14331\\AppData\\Local\\Temp\\jieba.u0775d9f1bbd4cda6d36b68c0c04220ec.cache\n"
     ]
    },
    {
     "name": "stdout",
     "output_type": "stream",
     "text": [
      "\n",
      " Synonyms: v3.18.0, Project home: https://github.com/chatopera/Synonyms/\n",
      "\n",
      " Project Sponsored by Chatopera\n",
      "\n",
      "  deliver your chatbots with Chatopera Cloud Services --> https://bot.chatopera.com\n",
      "\n",
      ">> Synonyms load wordseg dict [D:\\anacondaset\\lib\\site-packages\\synonyms\\data\\vocab.txt] ... \n"
     ]
    },
    {
     "name": "stderr",
     "output_type": "stream",
     "text": [
      "Loading model cost 1.028 seconds.\n",
      "Prefix dict has been built successfully.\n"
     ]
    },
    {
     "name": "stdout",
     "output_type": "stream",
     "text": [
      ">> Synonyms on loading stopwords [D:\\anacondaset\\lib\\site-packages\\synonyms\\data\\stopwords.txt] ...\n",
      ">> Synonyms on loading vectors [D:\\anacondaset\\lib\\site-packages\\synonyms\\data\\words.vector.gz] ...\n"
     ]
    }
   ],
   "source": [
    "import jieba\n",
    "import random\n",
    "from random import shuffle\n",
    "import sys\n",
    "import synonyms \n",
    "#一个中文近义词工具包，开源地址在https://github.com/chatopera/Synonyms\n",
    "#synonyms第一次调包可能会很慢，您可以选择将文件夹中的\"words.vector.gz\"文件放入该包路径\".//synonyms//data//\"中,\n",
    "#以anaconda为例，路径为应该为\"//anaconda//lib//site-packages//synonyms//data//\""
   ]
  },
  {
   "cell_type": "markdown",
   "metadata": {
    "id": "miCRhT7FbdzB"
   },
   "source": [
    "**我们通过synonyms.display()和synonyms.nearby()来具体看一下synonyms是怎么展示中文同义词结果。**"
   ]
  },
  {
   "cell_type": "code",
   "execution_count": 2,
   "metadata": {
    "colab": {
     "base_uri": "https://localhost:8080/"
    },
    "executionInfo": {
     "elapsed": 3,
     "status": "ok",
     "timestamp": 1663770218899,
     "user": {
      "displayName": "张洪洋",
      "userId": "14927477092713403753"
     },
     "user_tz": -480
    },
    "id": "FKkI7ejlwQuF",
    "outputId": "0b7ea5ad-b2c9-4b4b-99c7-bcc0d58cd447"
   },
   "outputs": [
    {
     "name": "stdout",
     "output_type": "stream",
     "text": [
      "'飞机'近义词：\n",
      "  1. 飞机:1.0\n",
      "  2. 直升机:0.842339\n",
      "  3. 客机:0.8393002\n",
      "  4. 滑翔机:0.78723866\n",
      "  5. 军用飞机:0.78320795\n",
      "  6. 水上飞机:0.7785722\n",
      "  7. 运输机:0.7724741\n",
      "  8. 航机:0.76647466\n",
      "  9. 航空器:0.7659289\n",
      "  10. 民航机:0.74209636\n"
     ]
    }
   ],
   "source": [
    "synonyms.display(\"飞机\") #synonyms.display()将输出\"飞机\"的近义词组，并以单词相似性由高到低排序"
   ]
  },
  {
   "cell_type": "code",
   "execution_count": 3,
   "metadata": {
    "colab": {
     "base_uri": "https://localhost:8080/"
    },
    "executionInfo": {
     "elapsed": 394,
     "status": "ok",
     "timestamp": 1663770214839,
     "user": {
      "displayName": "张洪洋",
      "userId": "14927477092713403753"
     },
     "user_tz": -480
    },
    "id": "a7r9nY09bnP0",
    "outputId": "f9ee968b-4f06-4d15-9673-01cdf3425608"
   },
   "outputs": [
    {
     "data": {
      "text/plain": [
       "(['飞机', '直升机', '客机', '滑翔机', '军用飞机', '水上飞机', '运输机', '航机', '航空器', '民航机'],\n",
       " [1.0,\n",
       "  0.842339,\n",
       "  0.8393002,\n",
       "  0.78723866,\n",
       "  0.78320795,\n",
       "  0.7785722,\n",
       "  0.7724741,\n",
       "  0.76647466,\n",
       "  0.7659289,\n",
       "  0.74209636])"
      ]
     },
     "execution_count": 3,
     "metadata": {},
     "output_type": "execute_result"
    }
   ],
   "source": [
    "synonyms.nearby(\"飞机\") #synonyms.nearby()返回一个包含\"近义词\"和\"该近义词得分\"的元组，二者均以列表的形式存储"
   ]
  },
  {
   "cell_type": "markdown",
   "metadata": {},
   "source": [
    "**注：除了synonyms库之外，还可以通过各种方式构建任务的同义词库，例如前几章介绍的TFidf和word2vec方法，或者是根据自身的先验知识人为的构造。**"
   ]
  },
  {
   "cell_type": "markdown",
   "metadata": {
    "id": "GCcf59I5cqiI"
   },
   "source": [
    "**接下来我们将利用同义词库去构建EDA中的相关方法，包括同义词替换和随机插入。在这之前我们可以复习一下第二章我们所学的文本预处理知识，特别是如何构建停用词列表，如何进行文本分词:**"
   ]
  },
  {
   "cell_type": "code",
   "execution_count": 4,
   "metadata": {
    "executionInfo": {
     "elapsed": 1270,
     "status": "ok",
     "timestamp": 1663762419407,
     "user": {
      "displayName": "张洪洋",
      "userId": "14927477092713403753"
     },
     "user_tz": -480
    },
    "id": "0nZNz2VQfljV"
   },
   "outputs": [
    {
     "name": "stdout",
     "output_type": "stream",
     "text": [
      "['!', '\"', '#', '$', '%', '&', \"'\", '(', ')', '*', '+', ',', '-', '--', '.']\n"
     ]
    }
   ],
   "source": [
    "random.seed(2022) #设置随机种子\n",
    "\n",
    "#构建停用词列表\n",
    "with open('停用词.txt', 'r',encoding='utf-8') as f:   \n",
    "    stop_words = [s.rstrip() for s in f.readlines()]\n",
    "\n",
    "print(stop_words[0:15])"
   ]
  },
  {
   "cell_type": "code",
   "execution_count": 5,
   "metadata": {
    "executionInfo": {
     "elapsed": 475,
     "status": "ok",
     "timestamp": 1663763430588,
     "user": {
      "displayName": "张洪洋",
      "userId": "14927477092713403753"
     },
     "user_tz": -480
    },
    "id": "ljZwEskC0vKM"
   },
   "outputs": [
    {
     "name": "stdout",
     "output_type": "stream",
     "text": [
      "['我', '也', '期待', '着', '能', '和', '你', '飞去', '同', '一片', '土地']\n"
     ]
    }
   ],
   "source": [
    "#分词\n",
    "sentence = \"我也期待着能和你飞去同一片土地\"\n",
    "words = jieba.lcut(sentence)  # 调用jieba进行分词\n",
    "print(words)  # 分词结果"
   ]
  },
  {
   "cell_type": "markdown",
   "metadata": {
    "id": "A94GDlOjdpSu"
   },
   "source": [
    "**进行同义词替换主要只进行二步，第一步是找到同义词列表，第二部是随机选择同义词列表中的一个词进行替换**"
   ]
  },
  {
   "cell_type": "code",
   "execution_count": 6,
   "metadata": {
    "executionInfo": {
     "elapsed": 360,
     "status": "ok",
     "timestamp": 1663771060985,
     "user": {
      "displayName": "张洪洋",
      "userId": "14927477092713403753"
     },
     "user_tz": -480
    },
    "id": "_0aEyMPxgwFn"
   },
   "outputs": [],
   "source": [
    "# 同义词替换：替换一个语句中的n个单词为其同义词\n",
    "\n",
    "def get_synonyms(word):  # 给定一个词，返回一个列表，包含该词的10个意思最相近的词语\n",
    "    return synonyms.nearby(word)[0] #synonyms.nearby()[0],即列表\n",
    "\n",
    "def synonym_replacement(words, n):\n",
    "    new_words = words.copy()  # 深拷贝\n",
    "    random_word_list = list(set([word for word in words if word not in stop_words])) #生成非停止词列表    \n",
    "    random.shuffle(random_word_list) #将列表中元素打乱顺序，便于后续随机选择同义词进行替换\n",
    "    num_replaced = 0      #被替换的词的数量，初始为0  \n",
    "    \n",
    "    for random_word in random_word_list:          \n",
    "        synonyms = get_synonyms(random_word) #调用刚才定义的函数get_synonyms，返回意思最相近的词语\n",
    "        if len(synonyms) >= 1:\n",
    "            synonym = random.choice(synonyms) #在同义词列表中随机选择一个同义词  \n",
    "            new_words = [synonym if word == random_word else word for word in new_words] #将随机选择的同义词添加进词表，并替换原单词  \n",
    "            num_replaced += 1\n",
    "        if num_replaced >= n: #当n个单词被替换后结束循环\n",
    "            break\n",
    "\n",
    "    \n",
    "\n",
    "    return new_words"
   ]
  },
  {
   "cell_type": "code",
   "execution_count": 7,
   "metadata": {
    "colab": {
     "base_uri": "https://localhost:8080/"
    },
    "executionInfo": {
     "elapsed": 445,
     "status": "ok",
     "timestamp": 1663771063941,
     "user": {
      "displayName": "张洪洋",
      "userId": "14927477092713403753"
     },
     "user_tz": -480
    },
    "id": "4_i8AkBB1yVJ",
    "outputId": "f45879b1-a767-40eb-b012-2deec6f4ab1a"
   },
   "outputs": [
    {
     "name": "stdout",
     "output_type": "stream",
     "text": [
      "替换前:\n",
      "['我', '也', '期待', '着', '能', '和', '你', '飞去', '同', '一片', '土地']\n",
      "\n",
      "替换后:\n",
      "['我', '也', '期待', '着', '能', '和', '你', '飞去', '同', '一片', '国有土地']\n",
      "\n"
     ]
    }
   ],
   "source": [
    "print(f\"替换前:\\n{words}\\n\")\n",
    "print(f\"替换后:\\n{synonym_replacement(words, 1)}\\n\")  #调用synonym_replacement，设置n=1，即随机替换一个同义词"
   ]
  },
  {
   "cell_type": "markdown",
   "metadata": {
    "id": "23zT0Xnxwaq8"
   },
   "source": [
    "### 3.2   随机插入\n",
    "\n",
    "**随机插入（Random Insertion，RI）是指从句子中随机选择一个非停止词，然后找到它对应的同义词，并将其插入到句子中的一个随机位置**\n",
    "\n",
    "<center><img src=\"https://pic4.zhimg.com/80/v2-07e91e2ad12265da5ab6e5271c99f043_720w.jpg\" width=60%><center>"
   ]
  },
  {
   "cell_type": "code",
   "execution_count": 8,
   "metadata": {
    "executionInfo": {
     "elapsed": 901,
     "status": "ok",
     "timestamp": 1663768372263,
     "user": {
      "displayName": "张洪洋",
      "userId": "14927477092713403753"
     },
     "user_tz": -480
    },
    "id": "8Bm46PJM0HAo"
   },
   "outputs": [],
   "source": [
    "# 随机插入n个同义词\n",
    "\n",
    "def add_word(new_words):\n",
    "    synonyms = []  # 同义词表\n",
    "    counter = 0  # 计数器\n",
    "    random_word_list = list(set([word for word in new_words if word not in stop_words])) #生成非停止词列表   \n",
    "    while len(synonyms) < 1:\n",
    "        #这里主要指随机选择random_word_list中一个词\n",
    "        random_word = random_word_list[random.randint(0, len(random_word_list)-1)] #random.randint()方法随机返回指定范围内的一个整数，并且可以取到右侧边界值，为防止索引超出列表容量，因此会减1\n",
    "        synonyms = get_synonyms(random_word) #调用上面定义的函数get_synonyms，返回一个包含10个同义词的list\n",
    "        counter += 1\n",
    "        if counter >= 10:\n",
    "            return\n",
    "    random_synonym = random.choice(synonyms)  # 从同义词中随机进行选择\n",
    "    random_idx = random.randint(0, len(new_words)-1) #选择一个随机索引，便于随机选择的同义词插入\n",
    "    new_words.insert(random_idx, random_synonym)  #在随机索引处插入同义词\n",
    "\n",
    "\n",
    "def random_insertion(words, n):   #调用随机插入方法，重复n次\n",
    "    new_words = words.copy()\n",
    "    for _ in range(n):\n",
    "        add_word(new_words) # 调用上面定义的函数add_word\n",
    "    return new_words"
   ]
  },
  {
   "cell_type": "code",
   "execution_count": 9,
   "metadata": {
    "colab": {
     "base_uri": "https://localhost:8080/"
    },
    "executionInfo": {
     "elapsed": 369,
     "status": "ok",
     "timestamp": 1663766251146,
     "user": {
      "displayName": "张洪洋",
      "userId": "14927477092713403753"
     },
     "user_tz": -480
    },
    "id": "eqztguxr3fM0",
    "outputId": "832bdf97-0bdd-49a3-d8ec-4b43eeca4cac"
   },
   "outputs": [
    {
     "name": "stdout",
     "output_type": "stream",
     "text": [
      "插入前:\n",
      "['我', '也', '期待', '着', '能', '和', '你', '飞去', '同', '一片', '土地']\n",
      "\n",
      "插入后:\n",
      "['我', '也', '期待', '着', '能', '和', '你', '飞去', '同', '盼望', '一片', '土地']\n",
      "\n"
     ]
    }
   ],
   "source": [
    "print(f\"插入前:\\n{words}\\n\")\n",
    "print(f\"插入后:\\n{random_insertion(words, 1)}\\n\") #随机插入n =1个同义词"
   ]
  },
  {
   "cell_type": "markdown",
   "metadata": {
    "id": "euAz2dYLxfa8"
   },
   "source": [
    "### 3.3   随机交换\n",
    "\n",
    "**随机插入（Random Swap,RS）是指在句子中随机交换任意n组单词的位置。**\n",
    "\n",
    "<center><img src=\"https://pic1.zhimg.com/80/v2-6f36ba1a0757ca2ab837b7c5b1b082ac_720w.png\" width=60%><center>"
   ]
  },
  {
   "cell_type": "code",
   "execution_count": 10,
   "metadata": {
    "executionInfo": {
     "elapsed": 495,
     "status": "ok",
     "timestamp": 1663771222207,
     "user": {
      "displayName": "张洪洋",
      "userId": "14927477092713403753"
     },
     "user_tz": -480
    },
    "id": "9EBLB_QY36UU"
   },
   "outputs": [],
   "source": [
    "#随机交换n次单词\n",
    "def swap_word(new_words):   # 交换单词\n",
    "    while(len(new_words)>=2):  #至少有两个单词才能进行交换\n",
    "        random_idx_1 = random.randint(0, len(new_words)-1)  #生成一个随机索引\n",
    "        random_idx_2 = random.randint(0, len(new_words)-1) \n",
    "        if random_idx_1 !=  random_idx_2:  # 当且仅当两个随机索引不相等时\n",
    "            new_words[random_idx_1], new_words[random_idx_2] = new_words[random_idx_2], new_words[random_idx_1]  #根据生成的索引进行单词交换\n",
    "            break\n",
    "    \n",
    "    return new_words\n",
    "\n",
    "def random_swap(words, n):  #调用交换单词方法，并重复n次\n",
    "    new_words = words.copy()\n",
    "    for _ in range(n):\n",
    "        new_words = swap_word(new_words) #调用函数swap_word\n",
    "    return new_words"
   ]
  },
  {
   "cell_type": "code",
   "execution_count": 11,
   "metadata": {
    "colab": {
     "base_uri": "https://localhost:8080/"
    },
    "executionInfo": {
     "elapsed": 5,
     "status": "ok",
     "timestamp": 1663771224074,
     "user": {
      "displayName": "张洪洋",
      "userId": "14927477092713403753"
     },
     "user_tz": -480
    },
    "id": "NPMf7qJJ45dW",
    "outputId": "9749cdfa-082f-4bb1-d19b-057b7cfd3b54"
   },
   "outputs": [
    {
     "name": "stdout",
     "output_type": "stream",
     "text": [
      "交换前:\n",
      "['我', '也', '期待', '着', '能', '和', '你', '飞去', '同', '一片', '土地']\n",
      "\n",
      "交换后:\n",
      "['同', '也', '期待', '着', '能', '和', '你', '飞去', '我', '一片', '土地']\n",
      "\n"
     ]
    }
   ],
   "source": [
    "print(f\"交换前:\\n{words}\\n\")\n",
    "print(f\"交换后:\\n{random_swap(words, 1)}\\n\")#随机交换一组单词"
   ]
  },
  {
   "cell_type": "markdown",
   "metadata": {
    "id": "En0j8XUPyGQ3"
   },
   "source": [
    "### 3.3   随机删除\n",
    "\n",
    "**随机删除（Random Deletion，RD）指以概率p随机删除句子中的单词。**\n",
    "\n",
    "<center><img src=\"https://pic1.zhimg.com/80/v2-1882dba089891493b3bcec075e9a1f48_720w.jpg\" width=60%><center>"
   ]
  },
  {
   "cell_type": "code",
   "execution_count": 12,
   "metadata": {
    "executionInfo": {
     "elapsed": 1104,
     "status": "ok",
     "timestamp": 1663769899435,
     "user": {
      "displayName": "张洪洋",
      "userId": "14927477092713403753"
     },
     "user_tz": -480
    },
    "id": "pOe_VIig5Ezv"
   },
   "outputs": [],
   "source": [
    "#随机删除：以概率p删除words中的词组\n",
    "\n",
    "def random_deletion(words, p):\n",
    "\n",
    "    if len(words) == 1:  # 至少要大于1个单词才能随机删除\n",
    "        return words\n",
    "\n",
    "    new_words = []\n",
    "    for word in words:\n",
    "        r = random.uniform(0, 1) #随机生成一个在（0，1）范围内的实数\n",
    "        if r > p: #以1-p的概率向新词列表添加单词\n",
    "            new_words.append(word)\n",
    "\n",
    "    if len(new_words) == 0: #若删除概率p为1，则随机保留词表中的一个单词\n",
    "        rand_int = random.randint(0, len(words)-1)\n",
    "        return [words[rand_int]]\n",
    "\n",
    "    return new_words"
   ]
  },
  {
   "cell_type": "code",
   "execution_count": 13,
   "metadata": {
    "colab": {
     "base_uri": "https://localhost:8080/"
    },
    "executionInfo": {
     "elapsed": 3,
     "status": "ok",
     "timestamp": 1663768859179,
     "user": {
      "displayName": "张洪洋",
      "userId": "14927477092713403753"
     },
     "user_tz": -480
    },
    "id": "HOTZf3m-5F71",
    "outputId": "67557a59-c039-4ee0-904d-bf5790611198"
   },
   "outputs": [
    {
     "name": "stdout",
     "output_type": "stream",
     "text": [
      "删除前:\n",
      "['我', '也', '期待', '着', '能', '和', '你', '飞去', '同', '一片', '土地']\n",
      "\n",
      "删除后:\n",
      "['我', '也', '期待', '着', '能', '和', '你', '飞去', '同', '一片', '土地']\n",
      "\n"
     ]
    }
   ],
   "source": [
    "print(f\"删除前:\\n{words}\\n\")\n",
    "print(f\"删除后:\\n{random_deletion(words, 0.1)}\\n\") #以0.1的概率随机删除单词"
   ]
  },
  {
   "cell_type": "markdown",
   "metadata": {
    "id": "eKqW2POj3fwr"
   },
   "source": [
    "**下面我们将以上四个方法进行封装，方便后续调用来进行文本数据增强**"
   ]
  },
  {
   "cell_type": "code",
   "execution_count": 14,
   "metadata": {},
   "outputs": [],
   "source": [
    "with open('停用词.txt', 'r',encoding='utf-8') as f:   \n",
    "    stop_words = [s.rstrip() for s in f.readlines()]"
   ]
  },
  {
   "cell_type": "code",
   "execution_count": 19,
   "metadata": {},
   "outputs": [],
   "source": [
    "class EDA(object):\n",
    "    \n",
    "    def __init__(self, stop_words, alpha_sr=0.1, alpha_ri=0.1, alpha_rs=0.1, p_rd=0.1):\n",
    "        #alpha_sr、alpha_ri、alpha_rs和p_rd分别是四种噪声技术的参数，可以理解某技术更改的单词的百分比,初始默认值根据EDA论文设定\n",
    "        self.stop_words = stop_words\n",
    "        self.alpha_sr = alpha_sr\n",
    "        self.alpha_ri = alpha_ri\n",
    "        self.alpha_rs = alpha_rs\n",
    "        self.p_rd = p_rd\n",
    "        \n",
    "    # 同义词替换\n",
    "    def synonym_replacement(self,sentence):\n",
    "        \n",
    "        words = jieba.lcut(sentence)\n",
    "        \n",
    "        num_words = len(words)\n",
    "        n_sr = max(1, int(self.alpha_sr * num_words))  #设置句子和单词的噪声强度  \n",
    "        \n",
    "        new_words = words.copy()  # 深拷贝\n",
    "        \n",
    "        random_word_list = list(set([word for word in words if word not in self.stop_words])) #生成非停止词列表    \n",
    "        random.shuffle(random_word_list) #将列表中元素打乱顺序，便于后续随机选择同义词进行替换\n",
    "        num_replaced = 0      #被替换的词的数量，初始为0  \n",
    "\n",
    "        for random_word in random_word_list:          \n",
    "            synonyms_word = synonyms.nearby(random_word)[0] #调用刚才定义的函数get_synonyms，返回意思最相近的词语\n",
    "            if len(synonyms_word) >= 1:\n",
    "                synonym = random.choice(synonyms_word) #在同义词列表中随机选择一个同义词  \n",
    "                new_words = [synonym if word == random_word else word for word in new_words] #将随机选择的同义词添加进词表，并替换原单词  \n",
    "                num_replaced += 1\n",
    "            if num_replaced >= n_sr: #当n个单词被替换后结束循环\n",
    "                break\n",
    "        new_sentence = ''.join(str(i) for i in new_words)\n",
    "        return new_sentence\n",
    "    \n",
    "    # 随机插入\n",
    "    def random_insertion(self,sentence):\n",
    "        \n",
    "        words = jieba.lcut(sentence)\n",
    "        num_words = len(words)\n",
    "        n_ri = max(1, int(self.alpha_ri * num_words)) #设置句子和单词的噪声强度  \n",
    "        new_words = words.copy()  # 深拷贝\n",
    "        for _ in range(n_ri):\n",
    "            synonyms_word = []  # 同义词表\n",
    "            counter = 0  # 计数器\n",
    "            random_word_list = list(set([word for word in new_words if word not in stop_words])) #生成非停止词列表   \n",
    "            while len(synonyms_word) < 1:\n",
    "                #这里主要指随机选择random_word_list中一个词\n",
    "                random_word = random_word_list[random.randint(0, len(random_word_list)-1)] #random.randint()方法随机返回指定范围内的一个整数，并且可以取到右侧边界值，为防止索引超出列表容量，因此会减1\n",
    "                synonyms_word = synonyms.nearby(random_word)[0] #调用synonyms，返回一个包含10个同义词的list\n",
    "                counter += 1\n",
    "                if counter >= 10:\n",
    "                    return\n",
    "            random_synonym = random.choice(synonyms_word)  # 从同义词中随机进行选择\n",
    "            random_idx = random.randint(0, len(new_words)-1) #选择一个随机索引，便于随机选择的同义词插入\n",
    "            new_words.insert(random_idx, random_synonym)  #在随机索引处插入同义词\n",
    "        \n",
    "        new_sentence = ''.join(str(i) for i in new_words)\n",
    "        return new_sentence\n",
    "    \n",
    "    # 随机交换\n",
    "    def random_swap(self,sentence):   # 交换单词\n",
    "        \n",
    "        words = jieba.lcut(sentence)\n",
    "        num_words = len(words)\n",
    "        n_rs = max(1, int(self.alpha_rs * num_words)) #设置句子和单词的噪声强度  \n",
    "        new_words = words.copy()  # 深拷贝\n",
    "        \n",
    "        for _ in range(n_rs):\n",
    "            while(len(new_words)>=2):  #至少有两个单词才能进行交换\n",
    "                random_idx_1 = random.randint(0, len(new_words)-1)  #生成一个随机索引\n",
    "                random_idx_2 = random.randint(0, len(new_words)-1) \n",
    "                if random_idx_1 !=  random_idx_2:  # 当且仅当两个随机索引不相等时\n",
    "                    new_words[random_idx_1], new_words[random_idx_2] = new_words[random_idx_2], new_words[random_idx_1]  #根据生成的索引进行单词交换\n",
    "                    break\n",
    "\n",
    "        new_sentence = ''.join(str(i) for i in new_words)\n",
    "        return new_sentence\n",
    "    \n",
    "    # 随机删除\n",
    "    def random_deletion(self,sentence):\n",
    "        \n",
    "        words = jieba.lcut(sentence)\n",
    "\n",
    "        if len(words) == 1:  # 至少要大于1个单词才能随机删除\n",
    "            return words\n",
    "\n",
    "        new_words = []\n",
    "        for word in words:\n",
    "            r = random.uniform(0, 1) #随机生成一个在（0，1）范围内的实数\n",
    "            if r > self.p_rd: #以1-p_rd的概率向新词列表添加单词\n",
    "                new_words.append(word)\n",
    "\n",
    "        if len(new_words) == 0: #若删除概率p为1，则随机保留词表中的一个单词\n",
    "            rand_int = random.randint(0, len(words)-1)\n",
    "            return [words[rand_int]]\n",
    "        \n",
    "        new_sentence = ''.join(str(i) for i in new_words)\n",
    "        return new_sentence\n",
    "        \n",
    "        \n",
    "    "
   ]
  },
  {
   "cell_type": "code",
   "execution_count": 20,
   "metadata": {},
   "outputs": [
    {
     "name": "stdout",
     "output_type": "stream",
     "text": [
      "原句子:\n",
      "我也希望着能和你飞去同一片土地\n",
      "\n",
      "同义词替换:\n",
      "我也希望着能和你直奔同一片土地\n",
      "\n",
      "随机交换:\n",
      "我你希望着能和也飞去同一片土地\n",
      "\n",
      "随机插入:\n",
      "我也希望着能和你飞去同一片期望土地\n",
      "\n",
      "随机删除:\n",
      "我也希望着和你飞去同一片土地\n",
      "\n"
     ]
    }
   ],
   "source": [
    "eda = EDA(stop_words)  # 实例化 EDA\n",
    "sentence = '我也希望着能和你飞去同一片土地'\n",
    "print(f\"原句子:\\n{sentence}\\n\")\n",
    "print(f\"同义词替换:\\n{eda.synonym_replacement(sentence)}\\n\")\n",
    "print(f\"随机交换:\\n{eda.random_swap(sentence)}\\n\")\n",
    "print(f\"随机插入:\\n{eda.random_insertion(sentence)}\\n\")\n",
    "print(f\"随机删除:\\n{eda.random_deletion(sentence)}\\n\")"
   ]
  },
  {
   "cell_type": "markdown",
   "metadata": {},
   "source": [
    "**尝试批量化的使用EDA方法并应用于example_data中**"
   ]
  },
  {
   "cell_type": "code",
   "execution_count": 53,
   "metadata": {},
   "outputs": [
    {
     "data": {
      "text/html": [
       "<div>\n",
       "<style scoped>\n",
       "    .dataframe tbody tr th:only-of-type {\n",
       "        vertical-align: middle;\n",
       "    }\n",
       "\n",
       "    .dataframe tbody tr th {\n",
       "        vertical-align: top;\n",
       "    }\n",
       "\n",
       "    .dataframe thead th {\n",
       "        text-align: right;\n",
       "    }\n",
       "</style>\n",
       "<table border=\"1\" class=\"dataframe\">\n",
       "  <thead>\n",
       "    <tr style=\"text-align: right;\">\n",
       "      <th></th>\n",
       "      <th>id</th>\n",
       "      <th>text</th>\n",
       "      <th>EDA_随机删除</th>\n",
       "    </tr>\n",
       "  </thead>\n",
       "  <tbody>\n",
       "    <tr>\n",
       "      <th>0</th>\n",
       "      <td>2401</td>\n",
       "      <td>活动二：消费满额加送两次代驾服务,2022年1月1日至12月31日，首次成功办理家庭卡银联版...</td>\n",
       "      <td>活动二：满额加送两次服务,2022年1日至12月31日，首次成功办理家庭卡银联版的主人非、支...</td>\n",
       "    </tr>\n",
       "    <tr>\n",
       "      <th>1</th>\n",
       "      <td>2402</td>\n",
       "      <td>消费越多，里程越多3.高额航空保险对于经常处于旅行奔波的人士来说，出行安全及有关保障是其考虑...</td>\n",
       "      <td>消费越多，里程越多3高额航空保险对于处于旅行奔波人士来说，出行安全及有关保障是其考虑的因素作...</td>\n",
       "    </tr>\n",
       "    <tr>\n",
       "      <th>2</th>\n",
       "      <td>2403</td>\n",
       "      <td>温馨提示：新办卡客户消费达标后可同时参与上述两个赠礼活动,刷卡满200元享118元返现:20...</td>\n",
       "      <td>温馨：新办卡客户消费达标后可同时参与两个赠礼,满200118元返现:2021年5月日-年4月...</td>\n",
       "    </tr>\n",
       "    <tr>\n",
       "      <th>3</th>\n",
       "      <td>2404</td>\n",
       "      <td>该卡为银联单币种信用卡，具有新一代长城信用卡所有功能中银海西文化信用卡是长城品牌下面向福建本...</td>\n",
       "      <td>该卡为银联单币种信用卡，具有新一代功能中银海西文化信用卡是长城品牌下面向本土文化产业开发的细...</td>\n",
       "    </tr>\n",
       "    <tr>\n",
       "      <th>4</th>\n",
       "      <td>2405</td>\n",
       "      <td>（2）航班及行李延误险,使用家庭卡银联版支付本人100%国内外机票款（含折扣机票款）或100...</td>\n",
       "      <td>（2）航班及行李延误险,使用家庭卡版支付本人100%国内外款（含机票款）或旅行团费（需含飞机...</td>\n",
       "    </tr>\n",
       "  </tbody>\n",
       "</table>\n",
       "</div>"
      ],
      "text/plain": [
       "     id                                               text  \\\n",
       "0  2401  活动二：消费满额加送两次代驾服务,2022年1月1日至12月31日，首次成功办理家庭卡银联版...   \n",
       "1  2402  消费越多，里程越多3.高额航空保险对于经常处于旅行奔波的人士来说，出行安全及有关保障是其考虑...   \n",
       "2  2403  温馨提示：新办卡客户消费达标后可同时参与上述两个赠礼活动,刷卡满200元享118元返现:20...   \n",
       "3  2404  该卡为银联单币种信用卡，具有新一代长城信用卡所有功能中银海西文化信用卡是长城品牌下面向福建本...   \n",
       "4  2405  （2）航班及行李延误险,使用家庭卡银联版支付本人100%国内外机票款（含折扣机票款）或100...   \n",
       "\n",
       "                                            EDA_随机删除  \n",
       "0  活动二：满额加送两次服务,2022年1日至12月31日，首次成功办理家庭卡银联版的主人非、支...  \n",
       "1  消费越多，里程越多3高额航空保险对于处于旅行奔波人士来说，出行安全及有关保障是其考虑的因素作...  \n",
       "2  温馨：新办卡客户消费达标后可同时参与两个赠礼,满200118元返现:2021年5月日-年4月...  \n",
       "3  该卡为银联单币种信用卡，具有新一代功能中银海西文化信用卡是长城品牌下面向本土文化产业开发的细...  \n",
       "4  （2）航班及行李延误险,使用家庭卡版支付本人100%国内外款（含机票款）或旅行团费（需含飞机...  "
      ]
     },
     "metadata": {},
     "output_type": "display_data"
    }
   ],
   "source": [
    "import pandas as pd\n",
    "data = pd.read_csv('example_text_data.csv')\n",
    "\n",
    "with open('停用词.txt', 'r',encoding='utf-8') as f:   \n",
    "    stop_words = [s.rstrip() for s in f.readlines()]\n",
    "\n",
    "eda = EDA(stop_words)  # 实例化 EDA\n",
    "\n",
    "data['EDA_随机删除'] = data['text'].map(lambda x: eda.random_deletion(x))\n",
    "# map和lambda函数是dataframe中非常重要的函数，可以很方便的灵活的对dataframe进行批量操作\n",
    "display(data.head())"
   ]
  },
  {
   "cell_type": "code",
   "execution_count": 54,
   "metadata": {},
   "outputs": [
    {
     "name": "stdout",
     "output_type": "stream",
     "text": [
      "删除前:\n",
      "活动二：消费满额加送两次代驾服务,2022年1月1日至12月31日，首次成功办理家庭卡银联版的主卡持卡人非微信、支付宝消费满1万元，即可额外获赠2次同城单程50公里内免费代驾服务，限量1万份，先到先得\n",
      "\n",
      "删除后:\n",
      "活动二：满额加送两次服务,2022年1日至12月31日，首次成功办理家庭卡银联版的主人非、支付宝满1万元，即可额外获赠2同城单程50公里内免费代驾服务，限量1万份，先到先得\n",
      "\n"
     ]
    }
   ],
   "source": [
    "print(f\"删除前:\\n{data.iloc[0].text}\\n\")\n",
    "print(f\"删除后:\\n{data.iloc[0].EDA_随机删除}\\n\")"
   ]
  }
 ],
 "metadata": {
  "colab": {
   "collapsed_sections": [],
   "provenance": []
  },
  "kernelspec": {
   "display_name": "Python 3",
   "language": "python",
   "name": "python3"
  },
  "language_info": {
   "codemirror_mode": {
    "name": "ipython",
    "version": 3
   },
   "file_extension": ".py",
   "mimetype": "text/x-python",
   "name": "python",
   "nbconvert_exporter": "python",
   "pygments_lexer": "ipython3",
   "version": "3.8.8"
  }
 },
 "nbformat": 4,
 "nbformat_minor": 1
}
